{
 "cells": [
  {
   "cell_type": "code",
   "execution_count": 21,
   "metadata": {},
   "outputs": [
    {
     "name": "stdout",
     "output_type": "stream",
     "text": [
      "code.ipynb\n",
      "COMMIT_EDITMSG\n",
      "config\n",
      "description\n",
      "HEAD\n",
      "index\n",
      "applypatch-msg.sample\n",
      "commit-msg.sample\n",
      "fsmonitor-watchman.sample\n",
      "post-update.sample\n",
      "pre-applypatch.sample\n",
      "pre-commit.sample\n",
      "pre-push.sample\n",
      "pre-rebase.sample\n",
      "pre-receive.sample\n",
      "prepare-commit-msg.sample\n",
      "update.sample\n",
      "exclude\n",
      "HEAD\n",
      "master\n",
      "master\n",
      "42a29f266ab659e685cef3802de3af0e1b61c7\n",
      "872ad8190c605e1d9fc59f28d1f79ae53d89f8\n",
      "a33ca8eed5e64a40f3eba250a9456699bc62a0\n",
      "381bfa563cb65d2ec3985e03ebaa2359e10a71\n",
      "9864d8ecfa50c20ab18f5b85d01278e59e7f0b\n",
      "30de484fef1ecf25afffc168ba3db93f4d7b1a\n",
      "5b3085f2e9829934c4a12c334426119a375377\n",
      "16b12baa8b1a948a9e67981adb0454669ad9d7\n",
      "666c30c1bf494e6cc5450522b02b91518ff2a2\n",
      "aae65cbb38481bb2bbcfb9a366509f341e5415\n",
      "0614393d2777410e9035f7aedccda203584bc8\n",
      "6fc1ae2dad946024d09476d9a106472158e049\n",
      "5b75490a4d94046231c610dfe8c7912d1b8237\n",
      "75eacc1ccd1644ac81f05800c9dec1dc852166\n",
      "0ffe61d871b78998937c8cf716d396e422b0b7\n",
      "d746d04ada0c87965f2044228c09e200d60937\n",
      "42140789af50e5fbbc8110153968c054be5c2b\n",
      "8e100c54b0c6aca16191273f73f046c8d2d35f\n",
      "fddb093156574da51ac66e4e76b8d74cb96d5e\n",
      "9ad61d68ee1230d185ac79994d643f9d7357ae\n",
      "b1cfa9eb24ed1bd3681f133c3b13109db1b7e4\n",
      "08050600ace44758b5650c2981e41f0f11fa27\n",
      "7a71c3f693b93b0991f37be50f7f90f52f264b\n",
      "bd60313b0e77495c3602efaa86dc01243b56a1\n",
      "119095b64cb9093973e7947d24cababff969d4\n",
      "6143e6d9b9d46f655b43659346aca256eea221\n",
      "050987b8693254cca316f9e3b605c6b8e27a0a\n",
      "12a97d4196a83f1ced852b98744ee0e67a54c1\n",
      "fceb13ceee962b2a5ec4c2d2b7a2923cb7ae11\n",
      "126947072b45da7a0d020b49441626e3c4bd2a\n",
      "185fac63316a02d1075c6130306b0c92ba1001\n",
      "f002c2f6f22f66eab82c669b365efd8ca83ab0\n",
      "0bd93c3933d77a125eed9d2c2b45fe6f28b1ac\n",
      "f339c136e88951f816241dcc2fdc052c8b527d\n",
      "f89b3d0174eb6727dde2f4a2ed04ad18c47d12\n",
      "2a21f6e1ed06cbe3ff1a878c7e21d1ca64d29c\n",
      "37b176e43961565a217f6dcb228ff941ba6363\n",
      "7238115aec3252ce4a193235b05417544bf7c3\n",
      "509ba404dda6383a4154fe10c3bb37e571213b\n",
      "11de73113b678c7712df4f698fd9de0d9f2b31\n",
      "56265589ef6f02bf3484a4be13fd09fa69b1e4\n",
      "2c6062c86c96c89d9155edb1e10af4e39e98fd\n",
      "b529e88514fc8bfaf39f401c535d6f220b92f8\n",
      "9fa905c2f9b658b23747f5c0959c4898eb8482\n",
      "a69a4b334cc539f34df2853bc52b06198a5484\n",
      "bdf1a4805a4b40770e50a8484ed9555684972f\n",
      "2b339a7baa1853d5f1555666a9df3917224ed0\n",
      "d3ca0a7e686a06be9ee69cff6ca58638505f6a\n",
      "e2eee41297f5b1d579c7a130c8dff307c0e952\n",
      "5b10491c758de1b2d68fcd21176b6a5a3af025\n",
      "c916b466adc42a9acbde7512b9e011b6a1929c\n",
      "4b081087ccd0ca11ce2d6807bd068fa304735b\n",
      "7927e0130d1316459b5de6daf26e451c80caee\n",
      "e1da415703ac37748cd85f257d5d1378e00cae\n",
      "d16d8c60dd65c2901a614c0dc0e50f58c021e7\n",
      "7f5f9a4a59b85a399c178336be40191f348149\n",
      "e30b75da2316f6f88fac1a8d75c5cb4cf0dfd7\n",
      "0277e7ddf62ab6de93b31b360c75d999ee67d9\n",
      "9248ea44239cd82efe9e5b7523b75894c5a4ac\n",
      "f601fe2762e8642c291f6114dbc9676f671827\n",
      "03875cc4d7c54ed14a2a5b55d3d2a07097f80e\n",
      "4a631d848e44f256345d2e1bde18ba65aa6be8\n",
      "a23661958f8590fd5124b7357ed4cb3adaf479\n",
      "02cc4afdaf64024d02e56b19b78cc601b85a3e\n",
      "master\n",
      "master\n",
      "code-checkpoint.ipynb\n"
     ]
    }
   ],
   "source": [
    "#Imnporting libraries\n",
    "import pandas as pd\n",
    "import numpy as np\n",
    "from scipy.optimize import fmin_slsqp\n",
    "import os\n",
    "import matplotlib.pyplot as plt\n",
    "import seaborn as sns\n",
    "from pprint import pprint\n",
    "import math\n",
    "import scipy\n",
    "import scipy.stats as stats\n",
    "from matplotlib.ticker import MultipleLocator\n",
    "from matplotlib.ticker import MaxNLocator\n",
    "\n",
    "#Listing the existing files in the dir\n",
    "for root, dirs, files in os.walk(\".\"):  \n",
    "    for filename in files:\n",
    "        print(filename)"
   ]
  },
  {
   "cell_type": "code",
   "execution_count": 3,
   "metadata": {},
   "outputs": [],
   "source": [
    "#Creating a dataset\n",
    "arr = [] 25, 48, 37, 41, 19, 32, 26, 16, 23, 23, 29, 36, 31, 26, 21, 32, 25, 31, 43, 35, 42, 38, 33, 28]\n",
    "df = pd.DataFrame(arr)\n",
    "df.columns = ['Values']"
   ]
  },
  {
   "cell_type": "code",
   "execution_count": 293,
   "metadata": {},
   "outputs": [],
   "source": [
    "#Estimating the number of classses following the formula that 2 ** k > n\n",
    "N = int(round(math.log(len(df['Values']), 2)))\n",
    "\n",
    "#Calculating class width\n",
    "intervals = ((df['Values'].max() - df['Values'].min()) / N).round(decimals = 0)\n",
    "limits = []\n",
    "limits.append(df['Values'].min() + intervals)\n",
    "\n",
    "def classes(N):\n",
    "    '''The function defines the lower limits'''\n",
    "    n = 0\n",
    "    while n < N:\n",
    "        for n in range(0, N):\n",
    "            limits.append(limits[n] + intervals)\n",
    "            n += n                  \n",
    "    return limits[:-2]  \n",
    "classes(N)\n",
    "\n",
    "def cl_equal_intevals(X):\n",
    "    '''The function assigns lables depending on which interval a data point falls into'''    \n",
    "    for x in X:\n",
    "        if x < limits[1]: return '1'\n",
    "        elif (x >= limits[1]) * (x < limits[2]): return '2'\n",
    "        elif (x >= limits[2]) * (x < limits[3]): return '3'\n",
    "        elif (x >= limits[3]) * (x < limits[4]): return '4'        \n",
    "        else: return '5'\n",
    "        \n",
    "df['cluster'] = df[['Values']].apply(cl_equal_intevals, axis = 1)"
   ]
  },
  {
   "cell_type": "code",
   "execution_count": 259,
   "metadata": {},
   "outputs": [
    {
     "data": {
      "image/png": "[encoded data removed]",
      "text/plain": [
       "<Figure size 432x288 with 1 Axes>"
      ]
     },
     "metadata": {},
     "output_type": "display_data"
    }
   ],
   "source": [
    "freq_tbl = pd.DataFrame(df.loc[:, ['Values', 'cluster']].groupby(str('cluster')).count().iloc[:,0]).reset_index()\n",
    "#Building a frequency plot\n",
    "fig, ax = plt.subplots()\n",
    "ax.bar(freq_tbl['cluster'], freq_tbl['Values'], alpha = 0.3)\n",
    "_ = plt.title('Frequency plot')\n",
    "_ = plt.xlabel('Classes')\n",
    "_ = plt.ylabel('Density')\n",
    "_ = ax.set_xticks([0, 1,2,3, 4, 5]) \n",
    "_ = ax.set_xticklabels(['(- 22)','[22-28)','[28-34)', '[34-40)', '[40-46)', '[46 -)'])"
   ]
  },
  {
   "cell_type": "code",
   "execution_count": 292,
   "metadata": {},
   "outputs": [],
   "source": [
    "#Estimating cumulative frequency\n",
    "freq_tbl['Cumulative_frequency'] = freq_tbl['Values'].cumsum()\n",
    "freq_tbl['Relative_cumulative_frequency'] = freq_tbl['Cumulative_frequency']/max(freq_tbl['Cumulative_frequency'])"
   ]
  },
  {
   "cell_type": "code",
   "execution_count": 288,
   "metadata": {},
   "outputs": [
    {
     "data": {
      "image/png": "[encoded data removed]",
      "text/plain": [
       "<Figure size 432x288 with 2 Axes>"
      ]
     },
     "metadata": {},
     "output_type": "display_data"
    }
   ],
   "source": [
    "fig, ax1 = plt.subplots()\n",
    "plt.plot(freq_tbl['cluster'], freq_tbl['Cumulative_frequency'], color='none')\n",
    "ax1.set_ylabel(\"Number of x\")\n",
    "\n",
    "ax2 = ax1.twinx()\n",
    "ax2.yaxis.tick_right()\n",
    "ax2.yaxis.set_label_position(\"right\")\n",
    "plt.plot(freq_tbl['cluster'], freq_tbl['Relative_cumulative_frequency'])\n",
    "ax2.set_xlabel(\"Value\")\n",
    "ax2.set_ylabel(\"Percent of x\")\n",
    "ax2.set_xticks([0, 1,2,3, 4, 5]) \n",
    "ax2.set_xticklabels(['(- 22)','[22-28)','[28-34)', '[34-40)', '[40-46)', '[46 -)'])\n",
    "\n",
    "plt.title('Cumulative frequency plot')\n",
    "\n",
    "plt.show()"
   ]
  },
  {
   "cell_type": "code",
   "execution_count": 291,
   "metadata": {},
   "outputs": [
    {
     "data": {
      "text/plain": [
       "30.72"
      ]
     },
     "execution_count": 291,
     "metadata": {},
     "output_type": "execute_result"
    }
   ],
   "source": [
    "#Calculating the average\n",
    "df['Values'].mean()"
   ]
  },
  {
   "cell_type": "code",
   "execution_count": 314,
   "metadata": {},
   "outputs": [
    {
     "data": {
      "text/plain": [
       "30"
      ]
     },
     "execution_count": 314,
     "metadata": {},
     "output_type": "execute_result"
    }
   ],
   "source": [
    "#Calculating the weighted average\n",
    "df_freq = df.groupby('Values').count()\n",
    "df_freq = df_freq.reset_index()\n",
    "def wavg(group, avg_name, weight_name):\n",
    "    \"\"\" Calculating the weighted average in a df \"\"\"\n",
    "    d = group[avg_name]\n",
    "    w = group[weight_name]\n",
    "    return (d * w).sum() / w.sum()\n",
    "wavg(df_freq, \"Values\", \"cluster\")"
   ]
  },
  {
   "cell_type": "code",
   "execution_count": 328,
   "metadata": {},
   "outputs": [
    {
     "data": {
      "text/plain": [
       "29.70769883592722"
      ]
     },
     "execution_count": 328,
     "metadata": {},
     "output_type": "execute_result"
    }
   ],
   "source": [
    "#Calculating the geometric average\n",
    "scipy.stats.gmean(df[\"Values\"],axis = 0)\n",
    "def geom_mean(avg_name):\n",
    "    return ((avg_name.iloc[-1] / avg_name.iloc[0]) ** (1/len(avg_name))) - 1\n",
    "geom_mean(df['Values'])"
   ]
  },
  {
   "cell_type": "code",
   "execution_count": 366,
   "metadata": {},
   "outputs": [
    {
     "data": {
      "text/plain": [
       "Text(0.5,1,'Boxplot')"
      ]
     },
     "execution_count": 366,
     "metadata": {},
     "output_type": "execute_result"
    },
    {
     "data": {
      "image/png": "[encoded data removed]",
      "text/plain": [
       "<Figure size 432x288 with 1 Axes>"
      ]
     },
     "metadata": {},
     "output_type": "display_data"
    }
   ],
   "source": [
    "#Creating a boxplot\n",
    "plt.boxplot(df['Values'])\n",
    "plt.title('Boxplot')"
   ]
  },
  {
   "cell_type": "code",
   "execution_count": 384,
   "metadata": {},
   "outputs": [
    {
     "data": {
      "text/plain": [
       "0    0.678284\n",
       "dtype: float64"
      ]
     },
     "execution_count": 384,
     "metadata": {},
     "output_type": "execute_result"
    }
   ],
   "source": [
    "#Calculating skeweness using PEARSON’S COEFFICIENT OF SKEWNESS \n",
    "arr = [557,\t542,\t419,\t416,\t396,\t351,\t313,\t305,\t285,\t281,\t269,\t264,\t252,\t249,\t248,\t248,\t240,\t239,\t235,\t235,\t233,\t224,\t219,\t217,\t211,\t207,\t205,\t199,\t198,\t179,\t178,\t175,\t174,\t172,\t169,\t166,\t165,\t162,\t157,\t149,\t145,\t145,\t136,\t132,\t128,\t124,\t120,\t107,\t107,\t103,\t100,\t95,\t94,\t94,\t92,\t91,\t80,\t66,\t59,\t44]\n",
    "df = pd.DataFrame(arr)\n",
    "coef_of_skeweness = (3 * (df.mean() - df.median()))/ df.std()\n",
    "#coef_of_skeweness > 0, thus, it indicates positive skeweness"
   ]
  },
  {
   "cell_type": "code",
   "execution_count": 8,
   "metadata": {},
   "outputs": [
    {
     "name": "stdout",
     "output_type": "stream",
     "text": [
      "10 days 95% confidence inverval: (27.658341974942335, 33.781658025057666)\n"
     ]
    },
    {
     "data": {
      "text/plain": [
       "30.72"
      ]
     },
     "execution_count": 8,
     "metadata": {},
     "output_type": "execute_result"
    }
   ],
   "source": [
    "#Calculating confidence interval using z distribution\n",
    "bottom = np.mean(arr) - 1.96*np.std(arr)/(np.sqrt(len(arr)))\n",
    "upper = np.mean(arr) + 1.96*np.std(arr)/(np.sqrt(len(arr)))\n",
    "print '30 days 95% confidence inverval:', (bottom,upper)"
   ]
  },
  {
   "cell_type": "code",
   "execution_count": 21,
   "metadata": {},
   "outputs": [
    {
     "data": {
      "text/plain": [
       "1.8584970917620307"
      ]
     },
     "execution_count": 21,
     "metadata": {},
     "output_type": "execute_result"
    }
   ],
   "source": [
    "arr = [7077,  5744,  6753,  7381,  7625,  6636,  7164,  7348,  8060,  5848,  9275,  7052]\n",
    "#Calculating t statistic\n",
    "t = (np.mean(arr)-6658)/(np.sqrt((((arr-np.mean(arr))**2)/(len(arr)-1)).sum())/np.sqrt(12)); t"
   ]
  },
  {
   "cell_type": "code",
   "execution_count": 40,
   "metadata": {},
   "outputs": [
    {
     "data": {
      "text/plain": [
       "29.6875"
      ]
     },
     "execution_count": 40,
     "metadata": {},
     "output_type": "execute_result"
    }
   ],
   "source": [
    "arr = [29.7 , 29.4  ,31.7  ,29.0  ,29.1  ,30.5 , 29.1 , 29.]\n",
    "#Calculating t statistic\n",
    "def t_stat(arr, pop_mean):\n",
    "    \"\"\"The function calculates t statistic\"\"\"\n",
    "    return (np.mean(arr)-pop_mean)/(np.sqrt((((arr-np.mean(arr))**2)/(len(arr)-1)).sum())/np.sqrt(len(arr)))\n",
    "t_stat(arr, 30)"
   ]
  },
  {
   "cell_type": "code",
   "execution_count": 16,
   "metadata": {},
   "outputs": [
    {
     "data": {
      "text/plain": [
       "7.3484692283495345"
      ]
     },
     "execution_count": 16,
     "metadata": {},
     "output_type": "execute_result"
    }
   ],
   "source": [
    "arr1 = [10, 12, 15, 19]\n",
    "arr2 = [8, 9, 12, 15]\n",
    "def t_statistic_two_sample(arr1, arr2):\n",
    "    '''The function calculates t statistic for two-sample test of hypothesis for dependent samples'''\n",
    "    substr = list(np.array(arr1) - np.array(arr2))\n",
    "    avg = np.mean(substr)\n",
    "    dif_from_mean = (substr - avg)**2\n",
    "    st_dev = (sum(dif_from_mean)/ (len(arr1) - 1))**0.5\n",
    "    t_statistic = avg / (st_dev / (len(arr1))**0.5)\n",
    "    return t_statistic\n",
    "t_statistic_two_sample(arr1, arr2)"
   ]
  },
  {
   "cell_type": "code",
   "execution_count": 71,
   "metadata": {},
   "outputs": [
    {
     "data": {
      "text/plain": [
       "3.0239233217564334"
      ]
     },
     "execution_count": 71,
     "metadata": {},
     "output_type": "execute_result"
    }
   ],
   "source": [
    "before = [ 6.6, 6.5, 9.0, 10.3, 11.2, 8.1, 6.3, 11.6]\n",
    "after = [ 6.8 ,2.4, 7.4, 8.5, 8.1, 6.1, 3.4,  2]\n",
    "t_statistic_two_sample(before, after)"
   ]
  },
  {
   "cell_type": "code",
   "execution_count": 23,
   "metadata": {},
   "outputs": [
    {
     "data": {
      "text/plain": [
       "-2.0529474904193115"
      ]
     },
     "execution_count": 23,
     "metadata": {},
     "output_type": "execute_result"
    }
   ],
   "source": [
    "def z_statistic_two_sample(x_bar_1, x_bar_2, std_1, std_2, n_1, n_2):\n",
    "    '''The function calculates z statistic for two-sample test of hypothesis with population mean known for independent samples'''\n",
    "    z = (x_bar_1 - x_bar_2) / ((std_1**2 / n_1) + (std_2**2 / n_2))**0.5\n",
    "    return z\n",
    "z_statistic_two_sample(57000, 61000, 9200, 7100, 40, 30)"
   ]
  },
  {
   "cell_type": "code",
   "execution_count": 26,
   "metadata": {},
   "outputs": [
    {
     "data": {
      "text/plain": [
       "(0.8985184172184417, 19.754137406789237)"
      ]
     },
     "execution_count": 26,
     "metadata": {},
     "output_type": "execute_result"
    }
   ],
   "source": [
    "def t_statistic_two_sample_unequal(x_bar_1, x_bar_2, std_1, std_2, n_1, n_2):\n",
    "    '''The function calculates t statistic when population standard deviation is unknown under the assumption that the populations are not equal'''\n",
    "    df = ((std_1**2 / n_1) + (std_2**2 / n_2))**2 / (((std_1**2/n_1)**2)/(n_1 - 1) + ((std_2**2/n_2)**2)/(n_2 - 1))\n",
    "    t = (x_bar_1 - x_bar_2) / ((std_1**2 / n_1) + (std_2**2 / n_2))**0.5\n",
    "    return t, df\n",
    "t_statistic_two_sample_unequal(83.55, 78.80, 10.50, 14.25, 10, 12)"
   ]
  },
  {
   "cell_type": "code",
   "execution_count": 54,
   "metadata": {},
   "outputs": [
    {
     "data": {
      "text/plain": [
       "(161.296875, 0.87349397864763)"
      ]
     },
     "execution_count": 54,
     "metadata": {},
     "output_type": "execute_result"
    }
   ],
   "source": [
    "def t_statistic_two_sample_equal(x_bar_1, x_bar_2, std_1, std_2, n_1, n_2):\n",
    "    '''The function calculates t statistic when population standard deviation is unknow under the assumption that population have equal deviations'''\n",
    "    sp = ((n_1 - 1)*std_1**2 + (n_2 - 1)*std_2**2) / (n_1 + n_2 - 2)\n",
    "    t = (x_bar_1 - x_bar_2) / (sp * ((1/float(n_1)) + (1/float(n_2))))**0.5\n",
    "    return sp,t\n",
    "t_statistic_two_sample_equal(83.55, 78.80, 10.50, 14.25, 10, 12)"
   ]
  },
  {
   "cell_type": "code",
   "execution_count": 68,
   "metadata": {},
   "outputs": [
    {
     "data": {
      "text/plain": [
       "(117.71428571428571, 125.125, 19.914101249401856, 15.094346150605057)"
      ]
     },
     "execution_count": 68,
     "metadata": {},
     "output_type": "execute_result"
    }
   ],
   "source": [
    "arr_1 = [138, 121,  88 ,115, 141, 125,96  ]\n",
    "arr_2 = [128 ,134, 152 ,135, 114 ,106 ,112, 120]\n",
    "def pre_processing(arr_1, arr_2):\n",
    "    global x_bar_1, x_bar_2, std_1, std_2    \n",
    "    x_bar_1 = np.mean(arr_1)\n",
    "    x_bar_2 = np.mean(arr_2)\n",
    "    std_1 = np.std(arr_1, ddof=1)\n",
    "    std_2 = np.std(arr_2, ddof=1)\n",
    "    return x_bar_1, x_bar_2, std_1, std_2\n",
    "pre_processing(arr_1, arr_2)\n",
    "t_statistic_two_sample_equal(x_bar_1, x_bar_2, std_1, std_2, 7, 8)"
   ]
  },
  {
   "cell_type": "code",
   "execution_count": 70,
   "metadata": {},
   "outputs": [
    {
     "data": {
      "text/plain": [
       "(1157894736L, -2.699431759367405)"
      ]
     },
     "execution_count": 70,
     "metadata": {},
     "output_type": "execute_result"
    }
   ],
   "source": [
    "t_statistic_two_sample_equal(150000, 180000,40000,30000,15,25)"
   ]
  },
  {
   "cell_type": "code",
   "execution_count": 504,
   "metadata": {},
   "outputs": [
    {
     "data": {
      "text/plain": [
       "F_onewayResult(statistic=0.0035778396781182293, pvalue=0.9532126914971771)"
      ]
     },
     "execution_count": 504,
     "metadata": {},
     "output_type": "execute_result"
    }
   ],
   "source": [
    "#Anova\n",
    "arr_1 = [98, 78, 54, 57, 68, 64, 70]\n",
    "arr_2 = [75, 81, 81, 30, 82, 46, 58, 101]\n",
    "stats.f_oneway(arr_1, arr_2)"
   ]
  },
  {
   "cell_type": "code",
   "execution_count": 505,
   "metadata": {},
   "outputs": [
    {
     "data": {
      "text/plain": [
       "-0.1860550011026497"
      ]
     },
     "execution_count": 505,
     "metadata": {},
     "output_type": "execute_result"
    }
   ],
   "source": [
    "#Another way to do Anova\n",
    "#One-way Anova\n",
    "arr_1 = [18, 16, 21, 23, 25]\n",
    "arr_2 = [17, 23, 21, 22, 24]\n",
    "arr_3 = [21, 23, 26, 29, 28]\n",
    "arr_4 = [22, 22, 22, 25, 28]\n",
    "lst = arr_1 + arr_2 + arr_3 + arr_4\n",
    "def variation(data): \n",
    "    \"\"\"The function calculates variations\"\"\"\n",
    "    global avg\n",
    "    avg = sum(data) / float(len(data))  \n",
    "    vari = 0\n",
    "    for d in data:\n",
    "        vari += (d - avg)**2\n",
    "    return vari\n",
    "SSE = variation(arr_1) + variation(arr_2) + variation(arr_3) + variation(arr_4)\n",
    "SS = variation(lst)\n",
    "SST = SS - SSE\n",
    "def f_statistic(SST, SSE, n_arr, lst):\n",
    "    \"\"\"The function calculation f statistic\"\"\"\n",
    "    MST = SST / (n_arr - 1)\n",
    "    MSE = SSE / (len(lst) - n_arr)\n",
    "    return MST / MSE\n",
    "f_statistic(SST, SSE, 4, lst)"
   ]
  },
  {
   "cell_type": "code",
   "execution_count": 447,
   "metadata": {},
   "outputs": [
    {
     "data": {
      "text/plain": [
       "2.4825234441602726"
      ]
     },
     "execution_count": 447,
     "metadata": {},
     "output_type": "execute_result"
    }
   ],
   "source": [
    "#Alternative way to calculate one-way Anova\n",
    "arr_1 = [18, 16, 21, 23, 25]\n",
    "arr_2 = [17, 23, 21, 22, 24]\n",
    "arr_3 = [21, 23, 26, 29, 28]\n",
    "arr_4 = [22, 22, 22, 25, 28]\n",
    "df = pd.DataFrame(np.vstack((arr_1, arr_2, arr_3, arr_4)))\n",
    "df = df.T\n",
    "def SS(data): \n",
    "    \"\"\"The function calculates SS\"\"\"\n",
    "    avg = (float(data.values.sum()) / float(data.size))\n",
    "    vari = ((data - avg)**2).values.sum()\n",
    "    return vari\n",
    "def SSE(data): \n",
    "    \"\"\"The function calculates SSE\"\"\"\n",
    "    vari = ((data - np.mean(data))**2).values.sum()\n",
    "    return vari\n",
    "def SST(SS, SSE):\n",
    "    \"\"\"The function calculates SST\"\"\"\n",
    "    dif = SS - SSE\n",
    "    return dif\n",
    "def f_statistic(SST, SSE, n_treat, data):\n",
    "    \"\"\"The function calculation f statistic\"\"\"\n",
    "    MST = SST / (n_treat - 1)\n",
    "    MSE = SSE / (float(data.size) - n_treat)\n",
    "    return (MST/MSE)\n",
    "f_statistic(SST(SS(df), SSE(df)), SSE(df), 4, df)"
   ]
  },
  {
   "cell_type": "code",
   "execution_count": 483,
   "metadata": {},
   "outputs": [
    {
     "data": {
      "text/plain": [
       "7.934604904632144"
      ]
     },
     "execution_count": 483,
     "metadata": {},
     "output_type": "execute_result"
    }
   ],
   "source": [
    "#Two-way Anova\n",
    "#Alternative way to calculate one-way Anova\n",
    "arr_1 = [18, 16, 21, 23, 25]\n",
    "arr_2 = [17, 23, 21, 22, 24]\n",
    "arr_3 = [21, 23, 26, 29, 28]\n",
    "arr_4 = [22, 22, 22, 25, 28]\n",
    "df = pd.DataFrame(np.vstack((arr_1, arr_2, arr_3, arr_4)))\n",
    "df = df.T\n",
    "def SS(data): \n",
    "    \"\"\"The function calculates SS\"\"\"\n",
    "    global global_avg\n",
    "    global_avg = (float(data.values.sum()) / float(data.size))\n",
    "    vari = ((data - global_avg)**2).values.sum()\n",
    "    return vari\n",
    "def SSB(data, n_treat):\n",
    "    SS(data)\n",
    "    \"\"\"The function calculates SSB\"\"\"\n",
    "    local_avg =  np.mean(data, axis = 1)\n",
    "    vari = (n_treat * (local_avg - global_avg)**2).values.sum()\n",
    "    return vari\n",
    "def SSE(data): \n",
    "    \"\"\"The function calculates SSE\"\"\"\n",
    "    vari = ((data - np.mean(data))**2).values.sum()\n",
    "    return vari\n",
    "def SST(SS, SSE):\n",
    "    \"\"\"The function calculates SST\"\"\"\n",
    "    dif = SS - SSE\n",
    "    return dif\n",
    "def SSE_2(SS, SST, SSB): \n",
    "    \"\"\"The function calculates SSE\"\"\"\n",
    "    dif = SS - SST - SSB\n",
    "    return dif\n",
    "def f_statistic(SST, SSE_2, n_treat, data):\n",
    "    \"\"\"The function calculation f statistic\"\"\"\n",
    "    MST = SST / (n_treat - 1)\n",
    "    MSE = SSE_2 / ((n_treat - 1)*(len(data.index) - 1))\n",
    "    return (MST / MSE)\n",
    "f_statistic(SST(SS(df), SSE(df)), SSE_2(SS(df), SST(SS(df), SSE(df)), SSB(df, 4)), 4, df)"
   ]
  },
  {
   "cell_type": "code",
   "execution_count": 503,
   "metadata": {},
   "outputs": [
    {
     "data": {
      "text/plain": [
       "(1.5521472392638054, 5.754601226993868)"
      ]
     },
     "execution_count": 503,
     "metadata": {},
     "output_type": "execute_result"
    }
   ],
   "source": [
    "arr_1 = [31, 33, 28, 30, 28]\n",
    "arr_2 = [25, 26, 24, 29, 26]\n",
    "arr_3 = [35, 33, 30, 28, 27]\n",
    "df = pd.DataFrame(np.vstack((arr_1, arr_2, arr_3)))\n",
    "df = df.T\n",
    "def SS(data): \n",
    "    \"\"\"The function calculates SS\"\"\"\n",
    "    global global_avg\n",
    "    global_avg = (float(data.values.sum()) / float(data.size))\n",
    "    vari = ((data - global_avg)**2).values.sum()\n",
    "    return vari\n",
    "def SSB(data, n_treat):\n",
    "    SS(data)\n",
    "    \"\"\"The function calculates SSB\"\"\"\n",
    "    local_avg =  np.mean(data, axis = 1)\n",
    "    vari = (n_treat * (local_avg - global_avg)**2).values.sum()\n",
    "    return vari\n",
    "def SSE(data): \n",
    "    \"\"\"The function calculates SSE\"\"\"\n",
    "    vari = ((data - np.mean(data))**2).values.sum()\n",
    "    return vari\n",
    "def SST(SS, SSE):\n",
    "    \"\"\"The function calculates SST\"\"\"\n",
    "    dif = SS - SSE\n",
    "    return dif\n",
    "def SSE_2(SS, SST, SSB): \n",
    "    \"\"\"The function calculates SSE\"\"\"\n",
    "    dif = SS - SST - SSB\n",
    "    return dif\n",
    "def f_statistic(SST, SSE_2, SSB, n_treat, data):\n",
    "    \"\"\"The function calculation f statistic\"\"\"\n",
    "    MST = SST / (n_treat - 1)\n",
    "    MSE = SSE_2 / ((n_treat - 1)*(len(data.index) - 1))\n",
    "    treatment_f = (MST / MSE)\n",
    "    MSB = SSB / (len(data.index)-1)\n",
    "    blocks_f = MSB / MSE\n",
    "    return blocks_f, treatment_f\n",
    "f_statistic(SST(SS(df), SSE(df)), SSE_2(SS(df), SST(SS(df), SSE(df)), SSB(df, 3)), SSB(df, 3), 3, df)"
   ]
  },
  {
   "cell_type": "code",
   "execution_count": 510,
   "metadata": {},
   "outputs": [
    {
     "data": {
      "text/plain": [
       "23.09774436090225"
      ]
     },
     "execution_count": 510,
     "metadata": {},
     "output_type": "execute_result"
    }
   ],
   "source": [
    "#Exercise\n",
    "arr_1 = [31, 33, 28, 30, 28]\n",
    "arr_2 = [25, 26, 24, 29, 26]\n",
    "lst = arr_1 + arr_2\n",
    "def variation(data): \n",
    "    \"\"\"The function calculates variations\"\"\"\n",
    "    global avg\n",
    "    avg = sum(data) / float(len(data))  \n",
    "    vari = 0\n",
    "    for d in data:\n",
    "        vari += (d - avg)**2\n",
    "    return vari\n",
    "SSE = variation(arr_1) + variation(arr_2)\n",
    "SS = variation(lst)\n",
    "SST = SS - SSE\n",
    "def f_statistic(SST, SSE, n_arr, lst):\n",
    "    \"\"\"The function calculation f statistic\"\"\"\n",
    "    MST = SST / (n_arr - 1)\n",
    "    MSE = SSE / (len(lst) - n_arr)\n",
    "    return MST / MSE\n",
    "f_statistic(SST, SSE, 2, lst)\n",
    "#stats.f_oneway(arr_1, arr_2, arr_3, arr_4)"
   ]
  },
  {
   "cell_type": "code",
   "execution_count": 5,
   "metadata": {},
   "outputs": [
    {
     "name": "stdout",
     "output_type": "stream",
     "text": [
      "('Pearson Correlation Coefficient: ', 0.9295160030897801, 'and a P-value of:', 0.02222408873329552)\n"
     ]
    }
   ],
   "source": [
    "#Correlation and regression analysis\n",
    "arr_1 = [4,2,5,6,3 ]\n",
    "arr_2 = [15,8,21,24,17]\n",
    "pearson_coef, p_value = stats.pearsonr(arr_1, arr_2) #define the columns to perform calculations on\n",
    "print(\"Pearson Correlation Coefficient: \", pearson_coef, \"and a P-value of:\", p_value) # Results "
   ]
  },
  {
   "cell_type": "code",
   "execution_count": 7,
   "metadata": {},
   "outputs": [
    {
     "data": {
      "text/plain": [
       "5.288219992055153"
      ]
     },
     "execution_count": 7,
     "metadata": {},
     "output_type": "execute_result"
    }
   ],
   "source": [
    "#To check if there are 0 correlation in the population\n",
    "def t_test_pearson(r, n):\n",
    "    \"\"\"The function calculates t statistic for pearson coefficient\"\"\"\n",
    "    t = (r * ((n - 2)**0.5)) / (1 - r**2)**0.5\n",
    "    return t\n",
    "t_test_pearson(0.78, 20)"
   ]
  },
  {
   "cell_type": "code",
   "execution_count": 14,
   "metadata": {},
   "outputs": [
    {
     "data": {
      "text/plain": [
       "(1.8517358730279514, 0.083574475201885, 0.6734992524898942)"
      ]
     },
     "execution_count": 14,
     "metadata": {},
     "output_type": "execute_result"
    }
   ],
   "source": [
    "#Coming up with regression equation\n",
    "x = [89.2, 18.6, 18.2, 71.7, 58.6, 46.8, 17.5, 11.9, 19.6, 51.2, 28.6, 69.2]\n",
    "y = [4.9, 4.4, 1.3, 8, 6.6, 4.1, 2.6, 1.7, 3.5, 8.2, 6, 12.8]\n",
    "def regression_equation(arr_1, arr_2):\n",
    "    \"\"\"The function prepares the regression equation\"\"\"\n",
    "    x_bar = np.mean(arr_1)\n",
    "    y_bar = np.mean(arr_2)\n",
    "    std_x = np.std(arr_1)\n",
    "    std_y = np.std(arr_2)    \n",
    "    pearson_coef, p_value = stats.pearsonr(arr_1, arr_2)\n",
    "    b = pearson_coef * (float(std_y) / float(std_x))\n",
    "    a = y_bar - b * x_bar\n",
    "    return a, b, pearson_coef\n",
    "regression_equation(x, y)"
   ]
  },
  {
   "cell_type": "code",
   "execution_count": 9,
   "metadata": {},
   "outputs": [
    {
     "data": {
      "image/png": "[encoded data removed]",
      "text/plain": [
       "<Figure size 432x288 with 1 Axes>"
      ]
     },
     "metadata": {},
     "output_type": "display_data"
    },
    {
     "name": "stdout",
     "output_type": "stream",
     "text": [
      "('Pearson Correlation Coefficient: ', 0.09949013553610223, 'and a P-value of:', 0.873534513718366)\n"
     ]
    }
   ],
   "source": [
    "arr_1 = [-8, -16, 12, 2, 18]\n",
    "arr_2 = [58, 247, 15, 3, 341]\n",
    "plt.scatter(arr_2,arr_1)\n",
    "_= plt.title('Exploring relationship btw x and y')\n",
    "_ = plt.ylabel('Y')\n",
    "_= plt.xlabel('X')\n",
    "plt.show()\n",
    "pearson_coef, p_value = stats.pearsonr( arr_2,arr_1) #define the columns to perform calculations on\n",
    "print(\"Pearson Correlation Coefficient: \", pearson_coef, \"and a P-value of:\", p_value) # Results "
   ]
  },
  {
   "cell_type": "code",
   "execution_count": 13,
   "metadata": {},
   "outputs": [
    {
     "data": {
      "image/png": "[encoded data removed]",
      "text/plain": [
       "<Figure size 432x288 with 1 Axes>"
      ]
     },
     "metadata": {},
     "output_type": "display_data"
    },
    {
     "name": "stdout",
     "output_type": "stream",
     "text": [
      "('Pearson Correlation Coefficient: ', 0.09949013553610223, 'and a P-value of:', 0.873534513718366)\n"
     ]
    }
   ],
   "source": [
    "#Transforming x to get linear relationship\n",
    "arr_1_2 = []\n",
    "arr_1 = [-8, -16, 12, 2, 18]\n",
    "\n",
    "for i in arr_1:\n",
    "    l = i **2\n",
    "    arr_1_2.append(l)\n",
    "arr_2 = [58, 247, 15, 3, 341]\n",
    "plt.scatter(arr_1_2,arr_1)\n",
    "_= plt.title('Exploring relationship btw x and y')\n",
    "_ = plt.ylabel('Y')\n",
    "_= plt.xlabel('X')\n",
    "plt.show()\n",
    "pearson_coef, p_value = stats.pearsonr( arr_2,arr_1) #define the columns to perform calculations on\n",
    "print(\"Pearson Correlation Coefficient: \", pearson_coef, \"and a P-value of:\", p_value) # Results "
   ]
  },
  {
   "cell_type": "code",
   "execution_count": 16,
   "metadata": {},
   "outputs": [
    {
     "data": {
      "text/plain": [
       "1.6838416815035282"
      ]
     },
     "execution_count": 16,
     "metadata": {},
     "output_type": "execute_result"
    }
   ],
   "source": [
    "def t_test_pearson(r, n):\n",
    "    \"\"\"The function calculates t statistic for pearson coefficient\"\"\"\n",
    "    t = (r * ((n - 2)**0.5)) / (1 - r**2)**0.5\n",
    "    return t\n",
    "t_test_pearson(0.47, 12)"
   ]
  },
  {
   "cell_type": "code",
   "execution_count": 39,
   "metadata": {},
   "outputs": [
    {
     "data": {
      "image/png": "[encoded data removed]",
      "text/plain": [
       "<Figure size 220x220 with 1 Axes>"
      ]
     },
     "metadata": {},
     "output_type": "display_data"
    },
    {
     "name": "stdout",
     "output_type": "stream",
     "text": [
      "('Pearson Correlation Coefficient: ', -0.7468153584290134, 'and a P-value of:', 0.0021481940789066585)\n"
     ]
    },
    {
     "data": {
      "text/plain": [
       "-3.8901082285424042"
      ]
     },
     "execution_count": 39,
     "metadata": {},
     "output_type": "execute_result"
    }
   ],
   "source": [
    "x = [6, 7.8, 7.3, 10.3, 10.1, 10.8, 11.5, 15.4, 13.5, 15.5, 17.4, 16.9, 11.6, 17.5]\n",
    "y = [50.2, 50.4, 44, 49.9, 39.5, 43.1, 44, 40.1, 36, 31.7, 28.6, 26.9, 19.1, 17.6]\n",
    "\n",
    "fig = plt.figure(figsize=(2.2,2.2), dpi=100)\n",
    "ax = plt.subplot(111)\n",
    "plt.xlim(np.min(x), np.max(x))\n",
    "plt.ylim(np.min(y), np.max(y))\n",
    "slope, intercept, r_value, p_value, std_err = stats.linregress(x,y)\n",
    "line = slope*np.array(x)+intercept\n",
    "plt.plot(x, line, 'r', label='y={:.2f}x+{:.2f}'.format(slope,intercept))\n",
    "plt.scatter(x,y, color=\"k\", s=3.5)\n",
    "_= plt.title('Exploring relationship btw x and y')\n",
    "_ = plt.ylabel('Y')\n",
    "_= plt.xlabel('X')\n",
    "plt.show()\n",
    "pearson_coef, p_value = stats.pearsonr( x,y) #define the columns to perform calculations on\n",
    "print(\"Pearson Correlation Coefficient: \", pearson_coef, \"and a P-value of:\", p_value) # Results \n",
    "\n",
    "def t_test_pearson(r, n):\n",
    "    \"\"\"The function calculates t statistic for pearson coefficient\"\"\"\n",
    "    t = (r * ((n - 2)**0.5)) / (1 - r**2)**0.5\n",
    "    return t\n",
    "t_test_pearson(-0.7468153584290134, 14)"
   ]
  },
  {
   "cell_type": "code",
   "execution_count": null,
   "metadata": {},
   "outputs": [],
   "source": []
  }
 ],
 "metadata": {
  "kernelspec": {
   "display_name": "python3.5",
   "language": "python",
   "name": "python3.5"
  },
  "language_info": {
   "codemirror_mode": {
    "name": "ipython",
    "version": 2
   },
   "file_extension": ".py",
   "mimetype": "text/x-python",
   "name": "python",
   "nbconvert_exporter": "python",
   "pygments_lexer": "ipython2",
   "version": "2.7.15"
  }
 },
 "nbformat": 4,
 "nbformat_minor": 2
}
